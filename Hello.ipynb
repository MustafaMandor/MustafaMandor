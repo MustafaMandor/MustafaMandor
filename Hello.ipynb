{
 "cells": [
  {
   "cell_type": "code",
   "execution_count": null,
   "id": "1c671054-940c-4b26-a219-ed1c461926fc",
   "metadata": {},
   "outputs": [
    {
     "name": "stdout",
     "output_type": "stream",
     "text": [
      "Hello there, Im Mustafa Mandor i hope you are enjoying my repository.\n",
      "May i ask you about which of the following do you want to know about me:\n",
      "1- My Bio\n",
      "2- My Education\n",
      "3- My Skills\n",
      "4- My Personal Projects\n",
      "5- My Interests\n",
      "6- My Email Address\n",
      "0- End Program\n"
     ]
    }
   ],
   "source": [
    "print(\"Hello there, Im Mustafa Mandor i hope you are enjoying my repository.\")\n",
    "print(\"May i ask you about which of the following do you want to know about me:\")\n",
    "print(\"1- My Bio\")\n",
    "print(\"2- My Education\")\n",
    "print(\"3- My Skills\")\n",
    "print(\"4- My Personal Projects\")\n",
    "print(\"5- My Interests\")\n",
    "print(\"6- My Email Address\")\n",
    "print(\"0- End Program\")\n",
    "x= input(\"Choose the number: \")\n",
    "x= int(x)\n",
    "while x>0:\n",
    "    if x==3:\n",
    "        print(\"My Skils are; Quick Learner, Communication, Teamwork, Research and self learning.\")\n",
    "    elif x==2:\n",
    "        print(\"My Education is; Bachelor of Science in Mechanical Engineering (Department of Mechatronics), Higher Technological Institute, Tenth of Ramadan Branch. 09/2017 - 07/2022, Very Good -GPA of 3.24- and currently learning machine learning and AI at AMIT Learning.\")\n",
    "    elif x==5:\n",
    "        print(\"My Interests are: learning more about CS and Engineering technologies.\")\n",
    "    elif x==1:\n",
    "        print(\"Mechatronics engineer who is passionate to increase his knowledge and very motivated to learn more. -Willing to success-\")\n",
    "    elif x==4:\n",
    "        print(\"My Personal Projects are: Floating Waste Collecting Robot. and Electric Racing Car Chassis.\")\n",
    "    elif x==6:\n",
    "        print(\"My Email Address is: mustafa.mandor@yahoo.com\")\n",
    "    x= input(\"Choose the number: \")\n",
    "    x= int(x)"
   ]
  },
  {
   "cell_type": "code",
   "execution_count": null,
   "id": "6b490cb6-2808-4147-81a5-2daae5c7df46",
   "metadata": {},
   "outputs": [],
   "source": []
  }
 ],
 "metadata": {
  "kernelspec": {
   "display_name": "Python 3 (ipykernel)",
   "language": "python",
   "name": "python3"
  },
  "language_info": {
   "codemirror_mode": {
    "name": "ipython",
    "version": 3
   },
   "file_extension": ".py",
   "mimetype": "text/x-python",
   "name": "python",
   "nbconvert_exporter": "python",
   "pygments_lexer": "ipython3",
   "version": "3.9.12"
  }
 },
 "nbformat": 4,
 "nbformat_minor": 5
}
